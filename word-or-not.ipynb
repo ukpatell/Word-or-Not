{
 "metadata": {
  "kernelspec": {
   "language": "python",
   "display_name": "Python 3",
   "name": "python3"
  },
  "language_info": {
   "name": "python",
   "version": "3.7.12",
   "mimetype": "text/x-python",
   "codemirror_mode": {
    "name": "ipython",
    "version": 3
   },
   "pygments_lexer": "ipython3",
   "nbconvert_exporter": "python",
   "file_extension": ".py"
  }
 },
 "nbformat_minor": 4,
 "nbformat": 4,
 "cells": [
  {
   "cell_type": "markdown",
   "source": [
    "<h1><font color=blue>Word or Not</font></h1>\n",
    "<h3><font color=green>Umangkumar Patel</font></h3>"
   ],
   "metadata": {}
  },
  {
   "cell_type": "markdown",
   "source": [
    "### Description \n",
    "<font color=blue>The aim of this project is to create a program that can decide whether a given set of letters is a word or not. We will use a dataset that contains many sets of random letters and their labels, which tell us if they are words or not. We will train and test different machine learning methods to find the one that can do this task the best. The goal is to create a program that can accurately and confidently tell us if a given set of letters is a word or not.</font>"
   ],
   "metadata": {}
  },
  {
   "cell_type": "markdown",
   "source": [
    "### Data Sources \n",
    "<font color=blue>https://www.kaggle.com/datasets/yk1598/479k-english-words</font>"
   ],
   "metadata": {}
  },
  {
   "cell_type": "markdown",
   "source": [
    "### Role of Artificial Intelligence \n",
    "<font color=blue>This project is related to artificial intelligence because it involves training a computer program to learn how to distinguish between words and non-words. This is done using machine learning algorithms, which allow the program to automatically learn from a large dataset of examples without being explicitly programmed for every possible scenario. The program will analyze the patterns and characteristics of the input data to identify the features that are most important for distinguishing between words and non-words, and then use this knowledge to classify new data that it has never seen before. The end goal is to create a program that can accurately and automatically classify new strings of characters as either words or non-words with a high degree of accuracy.</font>"
   ],
   "metadata": {}
  },
  {
   "cell_type": "markdown",
   "source": [
    "### Topics \n",
    "<font color=blue>This project will cover the topic of Natural Language Processing (NLP) in AI, specifically in the area of text classification. It involves the use of machine learning algorithms to analyze and classify text data, which is a fundamental application of AI in NLP. The project will also cover the use of supervised learning algorithms, which are a type of machine learning technique that involves learning from labeled data to make predictions on new, unseen data. We have covered the supervised learning as part of this course, and some algorithms as far as I understand that gives an idea of how the classification works, like the Naïve Bayes (currently). </font>"
   ],
   "metadata": {}
  },
  {
   "cell_type": "markdown",
   "source": [
    "### Libraries"
   ],
   "metadata": {}
  },
  {
   "cell_type": "code",
   "source": [
    "import pandas as pd #library for data manipulate and analysis in Python.\n",
    "import numpy as np\n",
    "from sklearn.feature_extraction.text import CountVectorizer # convert text to numbers vector for input in M.L.\n",
    "from sklearn.model_selection import train_test_split # split dataset for train & testing\n",
    "from sklearn.linear_model import LogisticRegression # for classification of word or not word\n",
    "from sklearn.metrics import accuracy_score, classification_report,confusion_matrix,ConfusionMatrixDisplay # for performance testing\n",
    "import seaborn as sns # visualization\n",
    "import pickle # save machine learning model"
   ],
   "metadata": {
    "_uuid": "8f2839f25d086af736a60e9eeb907d3b93b6e0e5",
    "_cell_guid": "b1076dfc-b9ad-4769-8c92-a6c4dae69d19",
    "execution": {
     "iopub.status.busy": "2023-04-21T21:48:14.248429Z",
     "iopub.execute_input": "2023-04-21T21:48:14.248879Z",
     "iopub.status.idle": "2023-04-21T21:48:15.178037Z",
     "shell.execute_reply.started": "2023-04-21T21:48:14.248835Z",
     "shell.execute_reply": "2023-04-21T21:48:15.177084Z"
    },
    "trusted": true
   },
   "execution_count": 30,
   "outputs": []
  },
  {
   "cell_type": "markdown",
   "source": [
    "## <font color=purple>Data Preprocessing</font>"
   ],
   "metadata": {}
  },
  {
   "cell_type": "code",
   "source": [
    "# Load the dataset\n",
    "with open('input/english_words.txt', 'r') as f:\n",
    "    words = f.read().splitlines()\n",
    "df = pd.DataFrame(words, columns=['word'])"
   ],
   "metadata": {
    "execution": {
     "iopub.status.busy": "2023-04-21T21:48:15.179784Z",
     "iopub.execute_input": "2023-04-21T21:48:15.180643Z",
     "iopub.status.idle": "2023-04-21T21:48:15.324327Z",
     "shell.execute_reply.started": "2023-04-21T21:48:15.180601Z",
     "shell.execute_reply": "2023-04-21T21:48:15.322337Z"
    },
    "trusted": true
   },
   "execution_count": 31,
   "outputs": []
  },
  {
   "cell_type": "code",
   "source": [
    "df.head()"
   ],
   "metadata": {
    "execution": {
     "iopub.status.busy": "2023-04-21T21:48:15.326245Z",
     "iopub.execute_input": "2023-04-21T21:48:15.327143Z",
     "iopub.status.idle": "2023-04-21T21:48:15.368684Z",
     "shell.execute_reply.started": "2023-04-21T21:48:15.327093Z",
     "shell.execute_reply": "2023-04-21T21:48:15.367327Z"
    },
    "trusted": true
   },
   "execution_count": 32,
   "outputs": [
    {
     "data": {
      "text/plain": "       word\n0         2\n1      1080\n2        &c\n3  10-point\n4      10th",
      "text/html": "<div>\n<style scoped>\n    .dataframe tbody tr th:only-of-type {\n        vertical-align: middle;\n    }\n\n    .dataframe tbody tr th {\n        vertical-align: top;\n    }\n\n    .dataframe thead th {\n        text-align: right;\n    }\n</style>\n<table border=\"1\" class=\"dataframe\">\n  <thead>\n    <tr style=\"text-align: right;\">\n      <th></th>\n      <th>word</th>\n    </tr>\n  </thead>\n  <tbody>\n    <tr>\n      <th>0</th>\n      <td>2</td>\n    </tr>\n    <tr>\n      <th>1</th>\n      <td>1080</td>\n    </tr>\n    <tr>\n      <th>2</th>\n      <td>&amp;c</td>\n    </tr>\n    <tr>\n      <th>3</th>\n      <td>10-point</td>\n    </tr>\n    <tr>\n      <th>4</th>\n      <td>10th</td>\n    </tr>\n  </tbody>\n</table>\n</div>"
     },
     "execution_count": 32,
     "metadata": {},
     "output_type": "execute_result"
    }
   ]
  },
  {
   "cell_type": "code",
   "source": [
    "df['word'] = df['word'].apply(lambda x: ''.join(e for e in x if e.isalpha()).lower())"
   ],
   "metadata": {
    "execution": {
     "iopub.status.busy": "2023-04-21T21:48:15.373824Z",
     "iopub.execute_input": "2023-04-21T21:48:15.374987Z",
     "iopub.status.idle": "2023-04-21T21:48:16.458986Z",
     "shell.execute_reply.started": "2023-04-21T21:48:15.374933Z",
     "shell.execute_reply": "2023-04-21T21:48:16.457825Z"
    },
    "trusted": true
   },
   "execution_count": 33,
   "outputs": []
  },
  {
   "cell_type": "code",
   "source": [
    "# x='$$'\n",
    "# for e in x:\n",
    "#     if e.isalpha():\n",
    "#         print(e.isalpha())\n",
    "#         print(e)"
   ],
   "metadata": {
    "execution": {
     "iopub.status.busy": "2023-04-21T21:48:16.460476Z",
     "iopub.execute_input": "2023-04-21T21:48:16.460960Z",
     "iopub.status.idle": "2023-04-21T21:48:16.467789Z",
     "shell.execute_reply.started": "2023-04-21T21:48:16.460911Z",
     "shell.execute_reply": "2023-04-21T21:48:16.466106Z"
    },
    "trusted": true
   },
   "execution_count": 34,
   "outputs": []
  },
  {
   "cell_type": "code",
   "source": [
    "df.head()"
   ],
   "metadata": {
    "execution": {
     "iopub.status.busy": "2023-04-21T21:48:16.469410Z",
     "iopub.execute_input": "2023-04-21T21:48:16.469881Z",
     "iopub.status.idle": "2023-04-21T21:48:16.483941Z",
     "shell.execute_reply.started": "2023-04-21T21:48:16.469834Z",
     "shell.execute_reply": "2023-04-21T21:48:16.482501Z"
    },
    "trusted": true
   },
   "execution_count": 35,
   "outputs": [
    {
     "data": {
      "text/plain": "    word\n0       \n1       \n2      c\n3  point\n4     th",
      "text/html": "<div>\n<style scoped>\n    .dataframe tbody tr th:only-of-type {\n        vertical-align: middle;\n    }\n\n    .dataframe tbody tr th {\n        vertical-align: top;\n    }\n\n    .dataframe thead th {\n        text-align: right;\n    }\n</style>\n<table border=\"1\" class=\"dataframe\">\n  <thead>\n    <tr style=\"text-align: right;\">\n      <th></th>\n      <th>word</th>\n    </tr>\n  </thead>\n  <tbody>\n    <tr>\n      <th>0</th>\n      <td></td>\n    </tr>\n    <tr>\n      <th>1</th>\n      <td></td>\n    </tr>\n    <tr>\n      <th>2</th>\n      <td>c</td>\n    </tr>\n    <tr>\n      <th>3</th>\n      <td>point</td>\n    </tr>\n    <tr>\n      <th>4</th>\n      <td>th</td>\n    </tr>\n  </tbody>\n</table>\n</div>"
     },
     "execution_count": 35,
     "metadata": {},
     "output_type": "execute_result"
    }
   ]
  },
  {
   "cell_type": "code",
   "source": [
    "df.count()"
   ],
   "metadata": {
    "execution": {
     "iopub.status.busy": "2023-04-21T21:48:16.485625Z",
     "iopub.execute_input": "2023-04-21T21:48:16.487093Z",
     "iopub.status.idle": "2023-04-21T21:48:16.543148Z",
     "shell.execute_reply.started": "2023-04-21T21:48:16.487038Z",
     "shell.execute_reply": "2023-04-21T21:48:16.541424Z"
    },
    "trusted": true
   },
   "execution_count": 36,
   "outputs": [
    {
     "data": {
      "text/plain": "word    466544\ndtype: int64"
     },
     "execution_count": 36,
     "metadata": {},
     "output_type": "execute_result"
    }
   ]
  },
  {
   "cell_type": "code",
   "source": [
    "df = df.sample(frac=1, random_state=42).reset_index(drop=True)"
   ],
   "metadata": {
    "execution": {
     "iopub.status.busy": "2023-04-21T21:48:16.544990Z",
     "iopub.execute_input": "2023-04-21T21:48:16.545522Z",
     "iopub.status.idle": "2023-04-21T21:48:16.654893Z",
     "shell.execute_reply.started": "2023-04-21T21:48:16.545474Z",
     "shell.execute_reply": "2023-04-21T21:48:16.653402Z"
    },
    "trusted": true
   },
   "execution_count": 37,
   "outputs": []
  },
  {
   "cell_type": "code",
   "source": [
    "df.head()"
   ],
   "metadata": {
    "execution": {
     "iopub.status.busy": "2023-04-21T21:48:16.656409Z",
     "iopub.execute_input": "2023-04-21T21:48:16.656872Z",
     "iopub.status.idle": "2023-04-21T21:48:16.669887Z",
     "shell.execute_reply.started": "2023-04-21T21:48:16.656823Z",
     "shell.execute_reply": "2023-04-21T21:48:16.668535Z"
    },
    "trusted": true
   },
   "execution_count": 38,
   "outputs": [
    {
     "data": {
      "text/plain": "               word\n0       sprezzatura\n1  overliterariness\n2         nobiliary\n3     androdioecism\n4         barbarize",
      "text/html": "<div>\n<style scoped>\n    .dataframe tbody tr th:only-of-type {\n        vertical-align: middle;\n    }\n\n    .dataframe tbody tr th {\n        vertical-align: top;\n    }\n\n    .dataframe thead th {\n        text-align: right;\n    }\n</style>\n<table border=\"1\" class=\"dataframe\">\n  <thead>\n    <tr style=\"text-align: right;\">\n      <th></th>\n      <th>word</th>\n    </tr>\n  </thead>\n  <tbody>\n    <tr>\n      <th>0</th>\n      <td>sprezzatura</td>\n    </tr>\n    <tr>\n      <th>1</th>\n      <td>overliterariness</td>\n    </tr>\n    <tr>\n      <th>2</th>\n      <td>nobiliary</td>\n    </tr>\n    <tr>\n      <th>3</th>\n      <td>androdioecism</td>\n    </tr>\n    <tr>\n      <th>4</th>\n      <td>barbarize</td>\n    </tr>\n  </tbody>\n</table>\n</div>"
     },
     "execution_count": 38,
     "metadata": {},
     "output_type": "execute_result"
    }
   ]
  },
  {
   "cell_type": "code",
   "source": [
    "vectorizer = CountVectorizer(analyzer='char')\n",
    "X = vectorizer.fit_transform(df['word'])"
   ],
   "metadata": {
    "execution": {
     "iopub.status.busy": "2023-04-21T21:48:16.675567Z",
     "iopub.execute_input": "2023-04-21T21:48:16.676874Z",
     "iopub.status.idle": "2023-04-21T21:48:20.352370Z",
     "shell.execute_reply.started": "2023-04-21T21:48:16.676817Z",
     "shell.execute_reply": "2023-04-21T21:48:20.351201Z"
    },
    "trusted": true
   },
   "execution_count": 39,
   "outputs": []
  },
  {
   "cell_type": "code",
   "source": [
    "# a='abcd'\n",
    "# for i in vectorizer.transform([a]):\n",
    "#     print(i)"
   ],
   "metadata": {
    "execution": {
     "iopub.status.busy": "2023-04-21T21:48:20.353637Z",
     "iopub.execute_input": "2023-04-21T21:48:20.353966Z",
     "iopub.status.idle": "2023-04-21T21:48:20.358399Z",
     "shell.execute_reply.started": "2023-04-21T21:48:20.353934Z",
     "shell.execute_reply": "2023-04-21T21:48:20.357307Z"
    },
    "trusted": true
   },
   "execution_count": 40,
   "outputs": []
  },
  {
   "cell_type": "code",
   "source": [
    "# Create target variable\n",
    "y = []\n",
    "for word in df['word']:\n",
    "    if len(set(word)) == 1:\n",
    "        y.append(0)\n",
    "    else:\n",
    "        y.append(1)"
   ],
   "metadata": {
    "execution": {
     "iopub.status.busy": "2023-04-21T21:48:20.359960Z",
     "iopub.execute_input": "2023-04-21T21:48:20.360747Z",
     "iopub.status.idle": "2023-04-21T21:48:20.902080Z",
     "shell.execute_reply.started": "2023-04-21T21:48:20.360697Z",
     "shell.execute_reply": "2023-04-21T21:48:20.900853Z"
    },
    "trusted": true
   },
   "execution_count": 41,
   "outputs": []
  },
  {
   "cell_type": "markdown",
   "source": [
    "## <font color=purple>Data Visualization</font>"
   ],
   "metadata": {}
  },
  {
   "cell_type": "code",
   "source": [
    "arr = X.toarray()\n",
    "df_arr = pd.DataFrame(arr, columns=vectorizer.get_feature_names_out())\n",
    "df_arr = df_arr.iloc[:10]"
   ],
   "metadata": {
    "execution": {
     "iopub.status.busy": "2023-04-21T21:48:20.903466Z",
     "iopub.execute_input": "2023-04-21T21:48:20.903873Z",
     "iopub.status.idle": "2023-04-21T21:48:20.990127Z",
     "shell.execute_reply.started": "2023-04-21T21:48:20.903839Z",
     "shell.execute_reply": "2023-04-21T21:48:20.989175Z"
    },
    "trusted": true
   },
   "execution_count": 42,
   "outputs": []
  },
  {
   "cell_type": "code",
   "source": [
    "df_arr = df_arr[df_arr.sum().sort_values(ascending=False).index]\n",
    "df_arr = df_arr.loc[df_arr.sum(axis=1).sort_values(ascending=False).index]\n",
    "sns.heatmap(df_arr, cmap='coolwarm', center=0, square=True, linewidths=0.5, cbar=False)"
   ],
   "metadata": {
    "execution": {
     "iopub.status.busy": "2023-04-21T21:48:20.991545Z",
     "iopub.execute_input": "2023-04-21T21:48:20.991898Z",
     "iopub.status.idle": "2023-04-21T21:48:21.352812Z",
     "shell.execute_reply.started": "2023-04-21T21:48:20.991868Z",
     "shell.execute_reply": "2023-04-21T21:48:21.351112Z"
    },
    "trusted": true
   },
   "execution_count": 43,
   "outputs": [
    {
     "data": {
      "text/plain": "<Axes: >"
     },
     "execution_count": 43,
     "metadata": {},
     "output_type": "execute_result"
    },
    {
     "data": {
      "text/plain": "<Figure size 640x480 with 1 Axes>",
      "image/png": "[encoded data removed]"
     },
     "metadata": {},
     "output_type": "display_data"
    }
   ]
  },
  {
   "cell_type": "code",
   "source": [
    "sns.barplot(df_arr)"
   ],
   "metadata": {
    "execution": {
     "iopub.status.busy": "2023-04-21T21:48:21.354234Z",
     "iopub.execute_input": "2023-04-21T21:48:21.354549Z",
     "iopub.status.idle": "2023-04-21T21:48:22.338262Z",
     "shell.execute_reply.started": "2023-04-21T21:48:21.354519Z",
     "shell.execute_reply": "2023-04-21T21:48:22.337067Z"
    },
    "trusted": true
   },
   "execution_count": 44,
   "outputs": [
    {
     "data": {
      "text/plain": "<Axes: >"
     },
     "execution_count": 44,
     "metadata": {},
     "output_type": "execute_result"
    },
    {
     "data": {
      "text/plain": "<Figure size 640x480 with 1 Axes>",
      "image/png": "[encoded data removed]"
     },
     "metadata": {},
     "output_type": "display_data"
    }
   ]
  },
  {
   "cell_type": "markdown",
   "source": [
    "## <font color=purple>Train Test Split</font>"
   ],
   "metadata": {}
  },
  {
   "cell_type": "code",
   "source": [
    "X_train, X_test, y_train, y_test = train_test_split(X, y, test_size=0.2, random_state=42)"
   ],
   "metadata": {
    "execution": {
     "iopub.status.busy": "2023-04-21T21:48:22.340093Z",
     "iopub.execute_input": "2023-04-21T21:48:22.340838Z",
     "iopub.status.idle": "2023-04-21T21:48:22.496843Z",
     "shell.execute_reply.started": "2023-04-21T21:48:22.340798Z",
     "shell.execute_reply": "2023-04-21T21:48:22.495538Z"
    },
    "trusted": true
   },
   "execution_count": 45,
   "outputs": []
  },
  {
   "cell_type": "markdown",
   "source": [
    "## <font color=purple>Build Model</font>"
   ],
   "metadata": {}
  },
  {
   "cell_type": "code",
   "source": [
    "model = LogisticRegression(max_iter=10000)\n",
    "model.fit(X_train, y_train)"
   ],
   "metadata": {
    "execution": {
     "iopub.status.busy": "2023-04-21T21:48:22.498427Z",
     "iopub.execute_input": "2023-04-21T21:48:22.499498Z",
     "iopub.status.idle": "2023-04-21T21:48:23.561770Z",
     "shell.execute_reply.started": "2023-04-21T21:48:22.499456Z",
     "shell.execute_reply": "2023-04-21T21:48:23.560433Z"
    },
    "trusted": true
   },
   "execution_count": 46,
   "outputs": [
    {
     "data": {
      "text/plain": "LogisticRegression(max_iter=10000)",
      "text/html": "<style>#sk-container-id-2 {color: black;background-color: white;}#sk-container-id-2 pre{padding: 0;}#sk-container-id-2 div.sk-toggleable {background-color: white;}#sk-container-id-2 label.sk-toggleable__label {cursor: pointer;display: block;width: 100%;margin-bottom: 0;padding: 0.3em;box-sizing: border-box;text-align: center;}#sk-container-id-2 label.sk-toggleable__label-arrow:before {content: \"▸\";float: left;margin-right: 0.25em;color: #696969;}#sk-container-id-2 label.sk-toggleable__label-arrow:hover:before {color: black;}#sk-container-id-2 div.sk-estimator:hover label.sk-toggleable__label-arrow:before {color: black;}#sk-container-id-2 div.sk-toggleable__content {max-height: 0;max-width: 0;overflow: hidden;text-align: left;background-color: #f0f8ff;}#sk-container-id-2 div.sk-toggleable__content pre {margin: 0.2em;color: black;border-radius: 0.25em;background-color: #f0f8ff;}#sk-container-id-2 input.sk-toggleable__control:checked~div.sk-toggleable__content {max-height: 200px;max-width: 100%;overflow: auto;}#sk-container-id-2 input.sk-toggleable__control:checked~label.sk-toggleable__label-arrow:before {content: \"▾\";}#sk-container-id-2 div.sk-estimator input.sk-toggleable__control:checked~label.sk-toggleable__label {background-color: #d4ebff;}#sk-container-id-2 div.sk-label input.sk-toggleable__control:checked~label.sk-toggleable__label {background-color: #d4ebff;}#sk-container-id-2 input.sk-hidden--visually {border: 0;clip: rect(1px 1px 1px 1px);clip: rect(1px, 1px, 1px, 1px);height: 1px;margin: -1px;overflow: hidden;padding: 0;position: absolute;width: 1px;}#sk-container-id-2 div.sk-estimator {font-family: monospace;background-color: #f0f8ff;border: 1px dotted black;border-radius: 0.25em;box-sizing: border-box;margin-bottom: 0.5em;}#sk-container-id-2 div.sk-estimator:hover {background-color: #d4ebff;}#sk-container-id-2 div.sk-parallel-item::after {content: \"\";width: 100%;border-bottom: 1px solid gray;flex-grow: 1;}#sk-container-id-2 div.sk-label:hover label.sk-toggleable__label {background-color: #d4ebff;}#sk-container-id-2 div.sk-serial::before {content: \"\";position: absolute;border-left: 1px solid gray;box-sizing: border-box;top: 0;bottom: 0;left: 50%;z-index: 0;}#sk-container-id-2 div.sk-serial {display: flex;flex-direction: column;align-items: center;background-color: white;padding-right: 0.2em;padding-left: 0.2em;position: relative;}#sk-container-id-2 div.sk-item {position: relative;z-index: 1;}#sk-container-id-2 div.sk-parallel {display: flex;align-items: stretch;justify-content: center;background-color: white;position: relative;}#sk-container-id-2 div.sk-item::before, #sk-container-id-2 div.sk-parallel-item::before {content: \"\";position: absolute;border-left: 1px solid gray;box-sizing: border-box;top: 0;bottom: 0;left: 50%;z-index: -1;}#sk-container-id-2 div.sk-parallel-item {display: flex;flex-direction: column;z-index: 1;position: relative;background-color: white;}#sk-container-id-2 div.sk-parallel-item:first-child::after {align-self: flex-end;width: 50%;}#sk-container-id-2 div.sk-parallel-item:last-child::after {align-self: flex-start;width: 50%;}#sk-container-id-2 div.sk-parallel-item:only-child::after {width: 0;}#sk-container-id-2 div.sk-dashed-wrapped {border: 1px dashed gray;margin: 0 0.4em 0.5em 0.4em;box-sizing: border-box;padding-bottom: 0.4em;background-color: white;}#sk-container-id-2 div.sk-label label {font-family: monospace;font-weight: bold;display: inline-block;line-height: 1.2em;}#sk-container-id-2 div.sk-label-container {text-align: center;}#sk-container-id-2 div.sk-container {/* jupyter's `normalize.less` sets `[hidden] { display: none; }` but bootstrap.min.css set `[hidden] { display: none !important; }` so we also need the `!important` here to be able to override the default hidden behavior on the sphinx rendered scikit-learn.org. See: https://github.com/scikit-learn/scikit-learn/issues/21755 */display: inline-block !important;position: relative;}#sk-container-id-2 div.sk-text-repr-fallback {display: none;}</style><div id=\"sk-container-id-2\" class=\"sk-top-container\"><div class=\"sk-text-repr-fallback\"><pre>LogisticRegression(max_iter=10000)</pre><b>In a Jupyter environment, please rerun this cell to show the HTML representation or trust the notebook. <br />On GitHub, the HTML representation is unable to render, please try loading this page with nbviewer.org.</b></div><div class=\"sk-container\" hidden><div class=\"sk-item\"><div class=\"sk-estimator sk-toggleable\"><input class=\"sk-toggleable__control sk-hidden--visually\" id=\"sk-estimator-id-2\" type=\"checkbox\" checked><label for=\"sk-estimator-id-2\" class=\"sk-toggleable__label sk-toggleable__label-arrow\">LogisticRegression</label><div class=\"sk-toggleable__content\"><pre>LogisticRegression(max_iter=10000)</pre></div></div></div></div></div>"
     },
     "execution_count": 46,
     "metadata": {},
     "output_type": "execute_result"
    }
   ]
  },
  {
   "cell_type": "markdown",
   "source": [
    "## <font color=purple>Evaluation</font>"
   ],
   "metadata": {}
  },
  {
   "cell_type": "code",
   "source": [
    "y_pred =model.predict(X_test)"
   ],
   "metadata": {
    "execution": {
     "iopub.status.busy": "2023-04-21T21:48:23.563364Z",
     "iopub.execute_input": "2023-04-21T21:48:23.563836Z",
     "iopub.status.idle": "2023-04-21T21:48:23.573357Z",
     "shell.execute_reply.started": "2023-04-21T21:48:23.563784Z",
     "shell.execute_reply": "2023-04-21T21:48:23.572253Z"
    },
    "trusted": true
   },
   "execution_count": 47,
   "outputs": []
  },
  {
   "cell_type": "code",
   "source": [
    "accuracy = accuracy_score(y_test, y_pred)\n",
    "report = classification_report(y_test, y_pred)\n",
    "\n",
    "print('Accuracy:', accuracy,'\\n\\n')\n",
    "print(report)"
   ],
   "metadata": {
    "execution": {
     "iopub.status.busy": "2023-04-21T21:48:23.575085Z",
     "iopub.execute_input": "2023-04-21T21:48:23.575606Z",
     "iopub.status.idle": "2023-04-21T21:48:23.732598Z",
     "shell.execute_reply.started": "2023-04-21T21:48:23.575553Z",
     "shell.execute_reply": "2023-04-21T21:48:23.731327Z"
    },
    "trusted": true
   },
   "execution_count": 48,
   "outputs": [
    {
     "name": "stdout",
     "output_type": "stream",
     "text": [
      "Accuracy: 0.999657053446077 \n",
      "\n",
      "\n",
      "              precision    recall  f1-score   support\n",
      "\n",
      "           0       1.00      0.09      0.16        35\n",
      "           1       1.00      1.00      1.00     93274\n",
      "\n",
      "    accuracy                           1.00     93309\n",
      "   macro avg       1.00      0.54      0.58     93309\n",
      "weighted avg       1.00      1.00      1.00     93309\n",
      "\n"
     ]
    }
   ]
  },
  {
   "cell_type": "code",
   "source": [
    "cm = confusion_matrix(y_test, y_pred, labels=model.classes_)\n",
    "disp = ConfusionMatrixDisplay(confusion_matrix=cm,display_labels=model.classes_)\n",
    "disp.plot()"
   ],
   "metadata": {
    "execution": {
     "iopub.status.busy": "2023-04-21T21:48:23.734207Z",
     "iopub.execute_input": "2023-04-21T21:48:23.737618Z",
     "iopub.status.idle": "2023-04-21T21:48:24.018288Z",
     "shell.execute_reply.started": "2023-04-21T21:48:23.737562Z",
     "shell.execute_reply": "2023-04-21T21:48:24.016963Z"
    },
    "trusted": true
   },
   "execution_count": 49,
   "outputs": [
    {
     "data": {
      "text/plain": "<sklearn.metrics._plot.confusion_matrix.ConfusionMatrixDisplay at 0x1ffc67fccd0>"
     },
     "execution_count": 49,
     "metadata": {},
     "output_type": "execute_result"
    },
    {
     "data": {
      "text/plain": "<Figure size 640x480 with 2 Axes>",
      "image/png": "[encoded data removed]"
     },
     "metadata": {},
     "output_type": "display_data"
    }
   ]
  },
  {
   "cell_type": "code",
   "source": [
    "word_to_check = [\"Hello..\",'12','@..','umang']\n",
    "test = vectorizer.transform(np.array(word_to_check))\n",
    "prediction = model.predict(test)\n",
    "\n",
    "for i in range(len(prediction)):\n",
    "    if prediction[i] == 1:\n",
    "        print(word_to_check[i], \"is an English word.\")\n",
    "    else:\n",
    "        print(word_to_check[i], \"is not an English word.\")"
   ],
   "metadata": {
    "execution": {
     "iopub.status.busy": "2023-04-21T21:48:24.019875Z",
     "iopub.execute_input": "2023-04-21T21:48:24.020688Z",
     "iopub.status.idle": "2023-04-21T21:48:24.028868Z",
     "shell.execute_reply.started": "2023-04-21T21:48:24.020647Z",
     "shell.execute_reply": "2023-04-21T21:48:24.027399Z"
    },
    "trusted": true
   },
   "execution_count": 50,
   "outputs": [
    {
     "name": "stdout",
     "output_type": "stream",
     "text": [
      "Hello.. is an English word.\n",
      "12 is not an English word.\n",
      "@.. is not an English word.\n",
      "umang is an English word.\n"
     ]
    }
   ]
  },
  {
   "cell_type": "markdown",
   "source": [
    "## <font color=purple>Save Model</font>"
   ],
   "metadata": {}
  },
  {
   "cell_type": "code",
   "source": [
    "with open('output/vectorizer.pkl', 'wb') as f:\n",
    "    pickle.dump(vectorizer, f)"
   ],
   "metadata": {
    "execution": {
     "iopub.status.busy": "2023-04-21T21:48:24.030408Z",
     "iopub.execute_input": "2023-04-21T21:48:24.030837Z",
     "iopub.status.idle": "2023-04-21T21:48:24.038416Z",
     "shell.execute_reply.started": "2023-04-21T21:48:24.030803Z",
     "shell.execute_reply": "2023-04-21T21:48:24.037454Z"
    },
    "trusted": true
   },
   "execution_count": 56,
   "outputs": []
  },
  {
   "cell_type": "code",
   "source": [
    "with open('output/model.pkl', 'wb') as f:\n",
    "    pickle.dump(model, f)"
   ],
   "metadata": {
    "execution": {
     "iopub.status.busy": "2023-04-21T21:48:24.039712Z",
     "iopub.execute_input": "2023-04-21T21:48:24.040468Z",
     "iopub.status.idle": "2023-04-21T21:48:24.049668Z",
     "shell.execute_reply.started": "2023-04-21T21:48:24.040431Z",
     "shell.execute_reply": "2023-04-21T21:48:24.048422Z"
    },
    "trusted": true
   },
   "execution_count": 57,
   "outputs": []
  }
 ]
}
